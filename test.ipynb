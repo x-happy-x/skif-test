{
 "cells": [
  {
   "cell_type": "code",
   "execution_count": 1,
   "metadata": {
    "ExecuteTime": {
     "start_time": "2023-04-23T18:02:26.818798Z",
     "end_time": "2023-04-23T18:02:28.343208Z"
    },
    "tags": []
   },
   "outputs": [],
   "source": [
    "from docxtpl import DocxTemplate\n",
    "from docx.shared import Inches"
   ]
  },
  {
   "cell_type": "code",
   "execution_count": 2,
   "metadata": {
    "ExecuteTime": {
     "start_time": "2023-04-23T18:04:44.621362Z",
     "end_time": "2023-04-23T18:04:44.626390Z"
    },
    "collapsed": false,
    "jupyter": {
     "outputs_hidden": false
    },
    "tags": []
   },
   "outputs": [],
   "source": [
    "doc = DocxTemplate(\"./template/Макет тестового задания 5.04.2023г.docx\")"
   ]
  },
  {
   "cell_type": "code",
   "execution_count": null,
   "outputs": [],
   "source": [
    "doc."
   ],
   "metadata": {
    "collapsed": false
   }
  },
  {
   "cell_type": "code",
   "execution_count": 41,
   "outputs": [
    {
     "data": {
      "text/plain": "<docx.text.paragraph.Paragraph at 0x1f77401a110>"
     },
     "execution_count": 41,
     "metadata": {},
     "output_type": "execute_result"
    }
   ],
   "source": [
    "doc.add_paragraph('This is a paragraph.', style='Heading 1')"
   ],
   "metadata": {
    "collapsed": false,
    "ExecuteTime": {
     "start_time": "2023-04-23T01:46:33.990257Z",
     "end_time": "2023-04-23T01:46:33.998313Z"
    }
   }
  },
  {
   "cell_type": "code",
   "execution_count": 52,
   "outputs": [
    {
     "data": {
      "text/plain": "['__name__',\n '__doc__',\n '__package__',\n '__loader__',\n '__spec__',\n '__path__',\n '__file__',\n '__cached__',\n '__builtins__',\n 'opc',\n 'compat',\n 'shared',\n 'image',\n 'exceptions',\n 'enum',\n 'oxml',\n 'parts',\n 'package',\n 'api',\n 'Document',\n '__version__',\n 'RT',\n 'text',\n 'dml',\n 'shape',\n 'blkcntnr',\n 'section',\n 'document',\n 'settings',\n 'styles',\n 'ImagePart',\n 'table']"
     },
     "execution_count": 52,
     "metadata": {},
     "output_type": "execute_result"
    }
   ],
   "source": [
    "docx.__dir__()"
   ],
   "metadata": {
    "collapsed": false,
    "ExecuteTime": {
     "start_time": "2023-04-23T01:50:17.743258Z",
     "end_time": "2023-04-23T01:50:17.749480Z"
    }
   }
  },
  {
   "cell_type": "code",
   "execution_count": 42,
   "metadata": {
    "collapsed": false,
    "jupyter": {
     "outputs_hidden": false
    },
    "ExecuteTime": {
     "start_time": "2023-04-23T01:46:37.696691Z",
     "end_time": "2023-04-23T01:46:37.712210Z"
    }
   },
   "outputs": [],
   "source": [
    "doc.save(\"Z:/Projects/PyCharm/skif-test/dest/sample.docx\")"
   ]
  },
  {
   "cell_type": "code",
   "execution_count": null,
   "outputs": [],
   "source": [],
   "metadata": {
    "collapsed": false
   }
  }
 ],
 "metadata": {
  "kernelspec": {
   "display_name": "Python 3 (ipykernel)",
   "language": "python",
   "name": "python3"
  },
  "language_info": {
   "codemirror_mode": {
    "name": "ipython",
    "version": 3
   },
   "file_extension": ".py",
   "mimetype": "text/x-python",
   "name": "python",
   "nbconvert_exporter": "python",
   "pygments_lexer": "ipython3",
   "version": "3.11.2"
  }
 },
 "nbformat": 4,
 "nbformat_minor": 4
}
